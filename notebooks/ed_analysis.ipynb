{
 "cells": [
  {
   "metadata": {
    "ExecuteTime": {
     "end_time": "2024-12-13T11:38:28.288028Z",
     "start_time": "2024-12-13T11:38:20.834984Z"
    }
   },
   "cell_type": "code",
   "source": [
    "# Import necessary classes from the scripts\n",
    "from scripts.sentimental_analysis import SentimentAnalyzer\n",
    "# Import pandas\n",
    "import pandas as pd"
   ],
   "id": "e016b0f4ca13eb1a",
   "outputs": [],
   "execution_count": 1
  },
  {
   "metadata": {
    "ExecuteTime": {
     "end_time": "2024-12-13T11:45:47.206632Z",
     "start_time": "2024-12-13T11:45:23.834230Z"
    }
   },
   "cell_type": "code",
   "source": [
    "# Load the news data\n",
    "file_path = \"../src/data/stock_news_data/raw_analyst_ratings.csv\"\n",
    "news_data = pd.read_csv(file_path)"
   ],
   "id": "f23dfb9807b821a9",
   "outputs": [],
   "execution_count": 5
  },
  {
   "metadata": {
    "ExecuteTime": {
     "end_time": "2024-12-13T11:52:36.031268Z",
     "start_time": "2024-12-13T11:46:05.323609Z"
    }
   },
   "cell_type": "code",
   "source": [
    "# Initialize the SentimentAnalyzer class and perform sentiment analysis\n",
    "sentiment_analyzer = SentimentAnalyzer(news_data)\n",
    "news_data = sentiment_analyzer.perform_sentiment_analysis()"
   ],
   "id": "8a4d62980f2a22a0",
   "outputs": [],
   "execution_count": 6
  },
  {
   "metadata": {
    "ExecuteTime": {
     "end_time": "2024-12-13T11:53:24.695097Z",
     "start_time": "2024-12-13T11:53:19.202450Z"
    }
   },
   "cell_type": "code",
   "source": [
    "# Display the sentiment analysis results\n",
    "news_data[['headline', 'sentiment', 'sentiment_category']].head()\n"
   ],
   "id": "e2273527367308c6",
   "outputs": [
    {
     "data": {
      "text/plain": [
       "                                            headline  sentiment  \\\n",
       "0            Stocks That Hit 52-Week Highs On Friday        0.0   \n",
       "1         Stocks That Hit 52-Week Highs On Wednesday        0.0   \n",
       "2                      71 Biggest Movers From Friday        0.0   \n",
       "3       46 Stocks Moving In Friday's Mid-Day Session        0.0   \n",
       "4  B of A Securities Maintains Neutral on Agilent...        0.0   \n",
       "\n",
       "  sentiment_category  \n",
       "0            neutral  \n",
       "1            neutral  \n",
       "2            neutral  \n",
       "3            neutral  \n",
       "4            neutral  "
      ],
      "text/html": [
       "<div>\n",
       "<style scoped>\n",
       "    .dataframe tbody tr th:only-of-type {\n",
       "        vertical-align: middle;\n",
       "    }\n",
       "\n",
       "    .dataframe tbody tr th {\n",
       "        vertical-align: top;\n",
       "    }\n",
       "\n",
       "    .dataframe thead th {\n",
       "        text-align: right;\n",
       "    }\n",
       "</style>\n",
       "<table border=\"1\" class=\"dataframe\">\n",
       "  <thead>\n",
       "    <tr style=\"text-align: right;\">\n",
       "      <th></th>\n",
       "      <th>headline</th>\n",
       "      <th>sentiment</th>\n",
       "      <th>sentiment_category</th>\n",
       "    </tr>\n",
       "  </thead>\n",
       "  <tbody>\n",
       "    <tr>\n",
       "      <th>0</th>\n",
       "      <td>Stocks That Hit 52-Week Highs On Friday</td>\n",
       "      <td>0.0</td>\n",
       "      <td>neutral</td>\n",
       "    </tr>\n",
       "    <tr>\n",
       "      <th>1</th>\n",
       "      <td>Stocks That Hit 52-Week Highs On Wednesday</td>\n",
       "      <td>0.0</td>\n",
       "      <td>neutral</td>\n",
       "    </tr>\n",
       "    <tr>\n",
       "      <th>2</th>\n",
       "      <td>71 Biggest Movers From Friday</td>\n",
       "      <td>0.0</td>\n",
       "      <td>neutral</td>\n",
       "    </tr>\n",
       "    <tr>\n",
       "      <th>3</th>\n",
       "      <td>46 Stocks Moving In Friday's Mid-Day Session</td>\n",
       "      <td>0.0</td>\n",
       "      <td>neutral</td>\n",
       "    </tr>\n",
       "    <tr>\n",
       "      <th>4</th>\n",
       "      <td>B of A Securities Maintains Neutral on Agilent...</td>\n",
       "      <td>0.0</td>\n",
       "      <td>neutral</td>\n",
       "    </tr>\n",
       "  </tbody>\n",
       "</table>\n",
       "</div>"
      ]
     },
     "execution_count": 7,
     "metadata": {},
     "output_type": "execute_result"
    }
   ],
   "execution_count": 7
  },
  {
   "metadata": {
    "ExecuteTime": {
     "end_time": "2024-12-13T12:24:44.067310Z",
     "start_time": "2024-12-13T12:23:48.715610Z"
    }
   },
   "cell_type": "code",
   "source": [
    "# Extract the most common keywords from the headlines\n",
    "keywords = sentiment_analyzer.extract_keywords(max_features=10)\n",
    "keywords"
   ],
   "id": "50f3b462267c1a98",
   "outputs": [
    {
     "data": {
      "text/plain": [
       "array(['earnings', 'eps', 'est', 'market', 'reports', 'sales', 'shares',\n",
       "       'stocks', 'update', 'vs'], dtype=object)"
      ]
     },
     "execution_count": 8,
     "metadata": {},
     "output_type": "execute_result"
    }
   ],
   "execution_count": 8
  },
  {
   "metadata": {},
   "cell_type": "code",
   "outputs": [],
   "execution_count": null,
   "source": "# Perform sentiment analysis on the '",
   "id": "571fb37a23016664"
  }
 ],
 "metadata": {
  "kernelspec": {
   "display_name": "Python 3",
   "language": "python",
   "name": "python3"
  },
  "language_info": {
   "codemirror_mode": {
    "name": "ipython",
    "version": 2
   },
   "file_extension": ".py",
   "mimetype": "text/x-python",
   "name": "python",
   "nbconvert_exporter": "python",
   "pygments_lexer": "ipython2",
   "version": "2.7.6"
  }
 },
 "nbformat": 4,
 "nbformat_minor": 5
}
